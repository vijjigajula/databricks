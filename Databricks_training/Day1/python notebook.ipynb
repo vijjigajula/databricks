{
 "cells": [
  {
   "cell_type": "code",
   "execution_count": 0,
   "metadata": {
    "application/vnd.databricks.v1+cell": {
     "cellMetadata": {
      "byteLimit": 2048000,
      "rowLimit": 10000
     },
     "inputWidgets": {},
     "nuid": "a7ef4301-0f4c-4e60-b455-063b997dda13",
     "showTitle": false,
     "tableResultSettingsMap": {},
     "title": ""
    }
   },
   "outputs": [],
   "source": [
    "%python\n",
    "# Ask for user's name\n",
    "name = input(\"What's your name? \")\n",
    "\n",
    "# Ask for user's age\n",
    "company = input(\"which company are you working? \")\n",
    "\n",
    "\n",
    "# Display a message\n",
    "print(f\"Hello, {name}! you are working for {company} company.\")"
   ]
  },
  {
   "cell_type": "code",
   "execution_count": 0,
   "metadata": {
    "application/vnd.databricks.v1+cell": {
     "cellMetadata": {
      "byteLimit": 2048000,
      "rowLimit": 10000
     },
     "inputWidgets": {},
     "nuid": "e2720e4a-aed1-41b9-a4f8-23d5a0f8f566",
     "showTitle": false,
     "tableResultSettingsMap": {},
     "title": ""
    }
   },
   "outputs": [],
   "source": [
    "%python\n",
    "(spark.read.csv(\"/Volumes/dev/naval/raw/csv/financial_dataset.csv\",header=True,inferSchema=True)\n",
    ".write.mode(\"overwrite\").saveAsTable(\"dev.vijaya.financial\"))\n",
    "\n",
    "\n",
    "\n"
   ]
  },
  {
   "cell_type": "code",
   "execution_count": 0,
   "metadata": {
    "application/vnd.databricks.v1+cell": {
     "cellMetadata": {
      "byteLimit": 2048000,
      "rowLimit": 10000
     },
     "inputWidgets": {},
     "nuid": "84f115d1-887c-4d6b-a268-60cb12c51ca4",
     "showTitle": false,
     "tableResultSettingsMap": {},
     "title": ""
    }
   },
   "outputs": [],
   "source": [
    "select * from dev.vijaya.financial"
   ]
  },
  {
   "cell_type": "code",
   "execution_count": 0,
   "metadata": {
    "application/vnd.databricks.v1+cell": {
     "cellMetadata": {
      "byteLimit": 2048000,
      "rowLimit": 10000
     },
     "inputWidgets": {},
     "nuid": "c976b915-416b-424e-bd3c-f9c601bbbcf0",
     "showTitle": false,
     "tableResultSettingsMap": {
      "0": {
       "dataGridStateBlob": "{\"version\":1,\"tableState\":{\"columnPinning\":{\"left\":[\"#row_number#\"],\"right\":[]},\"columnSizing\":{},\"columnVisibility\":{}},\"settings\":{\"columns\":{}},\"syncTimestamp\":1761558364812}",
       "filterBlob": null,
       "queryPlanFiltersBlob": null,
       "tableResultIndex": 0
      }
     },
     "title": ""
    }
   },
   "outputs": [],
   "source": [
    "%python\n",
    "import pyspark.sql.functions as F\n",
    "from pyspark.sql.functions import current_date\n",
    "df=spark.read.table(\"dev.vijaya.financial\");\n",
    "ds=df.select(\"CustomerID\",\"AccountType\",\"TransactionType\",\"AmountUSD\",\"Branch\").filter(\"Branch == 'Mumbai'\").withColumnRenamed(\"CustomerID\",\"CUSTID\");\n",
    "ds.withColumnRenamed(\"CUSTID\",\"CustomerId\").withColumnRenamed(\"AccountType\",\"Account_tp\").withColumn(\"Ingestion_date\", current_date()).display()\n",
    "\n"
   ]
  },
  {
   "cell_type": "code",
   "execution_count": 0,
   "metadata": {
    "application/vnd.databricks.v1+cell": {
     "cellMetadata": {
      "byteLimit": 2048000,
      "rowLimit": 10000
     },
     "inputWidgets": {},
     "nuid": "a04250a0-3ebf-4d32-b8c1-943c6614b11a",
     "showTitle": false,
     "tableResultSettingsMap": {},
     "title": ""
    }
   },
   "outputs": [],
   "source": [
    "%python\n",
    "import pyspark.sql.functions as F\n",
    "from pyspark.sql.functions import current_date, col;\n",
    "df=spark.read.option(\"multiLine\", True).json(\"/Volumes/dev/naval/raw/accounts.json\")\\\n",
    ".withColumn(\"nominee_name\", col(\"nominee_details.nominee_name\"))\\\n",
    ".withColumn(\"nominee_relationship\", col(\"nominee_details.relationship\"))\\\n",
    ".withColumn(\"Ingestion_date\", current_date()).withColumnRenamed(\"account_id\", \"accountid\")\\\n",
    ".drop(\"nominee_details\",\"created_timestamp\");\n",
    "\n",
    "df.write.mode(\"overwrite\").saveAsTable(\"dev.vijaya.accounts\")\n"
   ]
  },
  {
   "cell_type": "code",
   "execution_count": 0,
   "metadata": {
    "application/vnd.databricks.v1+cell": {
     "cellMetadata": {
      "byteLimit": 2048000,
      "rowLimit": 10000
     },
     "inputWidgets": {},
     "nuid": "490f15c2-a857-43d8-9fb9-9caaac4f990c",
     "showTitle": false,
     "tableResultSettingsMap": {},
     "title": ""
    }
   },
   "outputs": [],
   "source": [
    "select * from read_files('/Volumes/dev/naval/raw/1.json')"
   ]
  },
  {
   "cell_type": "code",
   "execution_count": 0,
   "metadata": {
    "application/vnd.databricks.v1+cell": {
     "cellMetadata": {
      "byteLimit": 2048000,
      "rowLimit": 10000
     },
     "inputWidgets": {},
     "nuid": "b1a49aa0-852f-435f-ae75-df0218667b3e",
     "showTitle": false,
     "tableResultSettingsMap": {},
     "title": ""
    }
   },
   "outputs": [],
   "source": [
    "create table dev.vijaya.from_parquet_tbl   as\n",
    "select * from parquet.`/Volumes/dev/naval/raw/part-00006-4ece8039-e05f-4114-8262-9d82c9ee1e62-c000.snappy.parquet`"
   ]
  },
  {
   "cell_type": "code",
   "execution_count": 0,
   "metadata": {
    "application/vnd.databricks.v1+cell": {
     "cellMetadata": {
      "byteLimit": 2048000,
      "rowLimit": 10000
     },
     "inputWidgets": {},
     "nuid": "a9a8cb4c-5284-4290-b927-92758bbee06d",
     "showTitle": false,
     "tableResultSettingsMap": {},
     "title": ""
    }
   },
   "outputs": [],
   "source": [
    "%python\n",
    "df.write.format(\"iceberg\").mode(\"overwrite\").saveAsTable(\"dev.vijaya.ice\")"
   ]
  },
  {
   "cell_type": "code",
   "execution_count": 0,
   "metadata": {
    "application/vnd.databricks.v1+cell": {
     "cellMetadata": {
      "byteLimit": 2048000,
      "rowLimit": 10000
     },
     "inputWidgets": {},
     "nuid": "c9026fc1-f61f-4c98-8bed-194212b6dc75",
     "showTitle": false,
     "tableResultSettingsMap": {},
     "title": ""
    }
   },
   "outputs": [],
   "source": [
    "create table dev.vijaya.medical   as\n",
    "select *, current_timestamp() as Ingestion_date from json.`/Volumes/dev/naval/raw/1.json`"
   ]
  },
  {
   "cell_type": "code",
   "execution_count": 0,
   "metadata": {
    "application/vnd.databricks.v1+cell": {
     "cellMetadata": {},
     "inputWidgets": {},
     "nuid": "cab4caa1-4b39-4455-9b32-49843295d88d",
     "showTitle": false,
     "tableResultSettingsMap": {},
     "title": ""
    }
   },
   "outputs": [],
   "source": [
    "R"
   ]
  }
 ],
 "metadata": {
  "application/vnd.databricks.v1+notebook": {
   "computePreferences": null,
   "dashboards": [],
   "environmentMetadata": {
    "base_environment": "",
    "environment_version": "4"
   },
   "inputWidgetPreferences": null,
   "language": "sql",
   "notebookMetadata": {
    "pythonIndentUnit": 4
   },
   "notebookName": "python notebook",
   "widgets": {}
  },
  "language_info": {
   "name": "sql"
  }
 },
 "nbformat": 4,
 "nbformat_minor": 0
}
